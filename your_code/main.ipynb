{
 "cells": [
  {
   "cell_type": "markdown",
   "metadata": {},
   "source": [
    "## Question 1\n",
    "The following table indicates the number of 6-point scores in an American rugby match in the 1979 season.\n",
    "\n",
    "![](table1.png)\n",
    "\n",
    "Based on these results, we create a Poisson distribution with the sample mean parameter  = 2.435. Is there any reason to believe that at a .05 level the number of scores is a Poisson variable?\n",
    "Check [here](https://www.geeksforgeeks.org/how-to-create-a-poisson-probability-mass-function-plot-in-python/) how to create a poisson distribution and how to calculate the expected observations, using the probability mass function (pmf). \n",
    "A Poisson distribution is a discrete probability distribution. It gives the probability of an event happening a certain number of times (k) within a given interval of time or space. The Poisson distribution has only one parameter, λ (lambda), which is the mean number of events."
   ]
  },
  {
   "cell_type": "code",
   "execution_count": 1,
   "metadata": {},
   "outputs": [
    {
     "data": {
      "text/plain": [
       "(6.4913106804135445, 12.591587243743977, True)"
      ]
     },
     "execution_count": 1,
     "metadata": {},
     "output_type": "execute_result"
    }
   ],
   "source": [
    "# your answer here\n",
    "\n",
    "from scipy.stats import poisson, chi2\n",
    "import numpy as np\n",
    "\n",
    "# Frequencies and scores\n",
    "observed_frequencies = np.array([35, 99, 104, 110, 62, 25, 10, 3])\n",
    "scores = np.arange(len(observed_frequencies))\n",
    "\n",
    "# Given mean parameter\n",
    "lambda_ = 2.435\n",
    "\n",
    "# Expected frequencies for each score based on Poisson distribution\n",
    "expected_frequencies = poisson.pmf(scores, lambda_) * 448  \n",
    "\n",
    "# For the \"7 or more\" category, we sum the probabilities of 7 and higher scores\n",
    "expected_frequencies[-1] = sum(poisson.pmf(range(7, 20), lambda_)) * 448\n",
    "\n",
    "# Chi-square test calculation\n",
    "chi_square_stat = ((observed_frequencies - expected_frequencies) ** 2 / expected_frequencies).sum()\n",
    "degrees_of_freedom = len(observed_frequencies) - 1 - 1 \n",
    "\n",
    "# Chi-square critical value at .05 level\n",
    "chi_square_critical = chi2.ppf(0.95, degrees_of_freedom)\n",
    "\n",
    "chi_square_stat, chi_square_critical, chi_square_stat < chi_square_critical\n"
   ]
  },
  {
   "cell_type": "code",
   "execution_count": 2,
   "metadata": {},
   "outputs": [
    {
     "data": {
      "text/plain": [
       "\" The calculated Chi-square statistic is approximately 6.49, and the critical value at the .05 significance level with 6 degrees of freedom is approximately 12.59. Since the calculated Chi-square statistic is less than the critical value, we cannot reject the null hypothesis. This means there's no significant reason to believe that the number of scores does not follow a Poisson distribution at the .05 significance level. Therefore, the observed frequencies of scores in an American rugby match in the 1979 season could well be modeled by a Poisson distribution with a mean parameter of 2.435. \""
      ]
     },
     "execution_count": 2,
     "metadata": {},
     "output_type": "execute_result"
    }
   ],
   "source": [
    "\"\"\" The calculated Chi-square statistic is approximately 6.49, and the critical value at the .05 significance level with 6 degrees of freedom is approximately 12.59. Since the calculated Chi-square statistic is less than the critical value, we cannot reject the null hypothesis. This means there's no significant reason to believe that the number of scores does not follow a Poisson distribution at the .05 significance level. Therefore, the observed frequencies of scores in an American rugby match in the 1979 season could well be modeled by a Poisson distribution with a mean parameter of 2.435. \"\"\""
   ]
  },
  {
   "cell_type": "markdown",
   "metadata": {},
   "source": [
    "## Question 2\n",
    "A researcher gathers information about the patterns of Physical Activity of children in the fifth grade of primary school of a public school. He defines three categories of physical activity (Low, Medium, High). He also inquires about the regular consumption of sugary drinks at school, and defines two categories (Yes = consumed, No = not consumed). We would like to evaluate if there is an association between patterns of physical activity and the consumption of sugary drinks for the children of this school, at a level of 5% significance. The results are in the following table: \n",
    "\n",
    "![](table4.png)"
   ]
  },
  {
   "cell_type": "code",
   "execution_count": 3,
   "metadata": {},
   "outputs": [
    {
     "data": {
      "text/plain": [
       "(10.712198008709638, 0.004719280137040844, True)"
      ]
     },
     "execution_count": 3,
     "metadata": {},
     "output_type": "execute_result"
    }
   ],
   "source": [
    "#your answer here\n",
    "\n",
    "from scipy.stats import chi2_contingency\n",
    "\n",
    "contingency_table = np.array([\n",
    "    [32, 12],  # Low activity\n",
    "    [14, 22],  # Medium activity\n",
    "    [6, 9]     # High activity\n",
    "])\n",
    "\n",
    "chi2_stat, p_value, dof, expected = chi2_contingency(contingency_table)\n",
    "\n",
    "chi2_stat, p_value, p_value < 0.05"
   ]
  },
  {
   "cell_type": "code",
   "execution_count": 5,
   "metadata": {},
   "outputs": [
    {
     "data": {
      "text/plain": [
       "' The Chi-square statistic calculated from the data is approximately 10.71, with a p-value of approximately 0.0047. Since the p-value is less than the 0.05 significance level, we reject the null hypothesis. This indicates there is a statistically significant association between the patterns of physical activity and the consumption of sugary drinks among fifth-grade children at this school. Therefore, the data suggest that the level of physical activity is related to whether children consume sugary drinks or not '"
      ]
     },
     "execution_count": 5,
     "metadata": {},
     "output_type": "execute_result"
    }
   ],
   "source": [
    "\"\"\" The Chi-square statistic calculated from the data is approximately 10.71, with a p-value of approximately 0.0047. Since the p-value is less than the 0.05 significance level, we reject the null hypothesis. This indicates there is a statistically significant association between the patterns of physical activity and the consumption of sugary drinks among fifth-grade children at this school. Therefore, the data suggest that the level of physical activity is related to whether children consume sugary drinks or not \"\"\""
   ]
  },
  {
   "cell_type": "code",
   "execution_count": null,
   "metadata": {},
   "outputs": [],
   "source": []
  }
 ],
 "metadata": {
  "kernelspec": {
   "display_name": "Python 3 (ipykernel)",
   "language": "python",
   "name": "python3"
  },
  "language_info": {
   "codemirror_mode": {
    "name": "ipython",
    "version": 3
   },
   "file_extension": ".py",
   "mimetype": "text/x-python",
   "name": "python",
   "nbconvert_exporter": "python",
   "pygments_lexer": "ipython3",
   "version": "3.11.3"
  }
 },
 "nbformat": 4,
 "nbformat_minor": 2
}
