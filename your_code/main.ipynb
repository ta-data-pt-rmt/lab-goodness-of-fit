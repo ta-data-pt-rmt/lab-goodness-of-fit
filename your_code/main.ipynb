{
 "cells": [
  {
   "cell_type": "markdown",
   "metadata": {},
   "source": [
    "## Question 1\n",
    "The following table indicates the number of 6-point scores in an American rugby match in the 1979 season.\n",
    "\n",
    "![](table1.png)\n",
    "\n",
    "Based on these results, we create a Poisson distribution with the sample mean parameter  = 2.435. Is there any reason to believe that at a .05 level the number of scores is a Poisson variable?\n",
    "Check [here](https://www.geeksforgeeks.org/how-to-create-a-poisson-probability-mass-function-plot-in-python/) how to create a poisson distribution and how to calculate the expected observations, using the probability mass function (pmf). \n",
    "A Poisson distribution is a discrete probability distribution. It gives the probability of an event happening a certain number of times (k) within a given interval of time or space. The Poisson distribution has only one parameter, λ (lambda), which is the mean number of events."
   ]
  },
  {
   "cell_type": "code",
   "execution_count": 1,
   "metadata": {},
   "outputs": [
    {
     "name": "stdout",
     "output_type": "stream",
     "text": [
      "There is no reason to believe the data does not follow a Poisson distribution.\n"
     ]
    }
   ],
   "source": [
    "import numpy as np\n",
    "import scipy.stats as stats\n",
    "\n",
    "observed = np.array([35, 99, 104, 110, 62, 25, 10, 3])\n",
    "\n",
    "n = np.sum(observed)\n",
    "\n",
    "lambda_poisson = 2.435\n",
    "\n",
    "expected = [n * stats.poisson.pmf(k, lambda_poisson) for k in range(len(observed))]\n",
    "\n",
    "chi_squared_stat = np.sum((observed - expected)**2 / expected)\n",
    "\n",
    "df = len(observed) - 1\n",
    "\n",
    "alpha = 0.05\n",
    "chi_squared_critical = stats.chi2.ppf(1 - alpha, df)\n",
    "\n",
    "if chi_squared_stat <= chi_squared_critical:\n",
    "    print(\"There is no reason to believe the data does not follow a Poisson distribution.\")\n",
    "else:\n",
    "    print(\"Reject the null hypothesis. The data may not follow a Poisson distribution.\")\n"
   ]
  },
  {
   "cell_type": "markdown",
   "metadata": {},
   "source": [
    "## Question 2\n",
    "A researcher gathers information about the patterns of Physical Activity of children in the fifth grade of primary school of a public school. He defines three categories of physical activity (Low, Medium, High). He also inquires about the regular consumption of sugary drinks at school, and defines two categories (Yes = consumed, No = not consumed). We would like to evaluate if there is an association between patterns of physical activity and the consumption of sugary drinks for the children of this school, at a level of 5% significance. The results are in the following table: \n",
    "\n",
    "![](table4.png)"
   ]
  },
  {
   "cell_type": "code",
   "execution_count": 5,
   "metadata": {},
   "outputs": [],
   "source": [
    "import pandas as pd\n",
    "from scipy.stats import chi2_contingency\n",
    "\n",
    "# Create a pandas DataFrame\n",
    "data = {\n",
    "    \"Sugary drinks\": [\"Yes\", \"No\", \"Yes\", \"No\", \"Yes\", \"No\", \"Total\"],\n",
    "    \"Physical activity\": [\"Low\", \"Low\", \"Medium\", \"Medium\", \"High\", \"High\", \"Total\"],\n",
    "    \"Count\": [32, 12, 14, 22, 6, 9, 95]\n",
    "}\n",
    "\n",
    "df = pd.DataFrame(data)"
   ]
  },
  {
   "cell_type": "code",
   "execution_count": 6,
   "metadata": {},
   "outputs": [
    {
     "name": "stdout",
     "output_type": "stream",
     "text": [
      "Chi-squared statistic: 7.000000000000002\n",
      "P-value: 0.320847198862134\n",
      "There is no significant association between patterns of physical activity and sugary drink consumption.\n"
     ]
    }
   ],
   "source": [
    "\n",
    "contingency_table = pd.crosstab(df['Physical activity'], df['Sugary drinks'])\n",
    "\n",
    "chi2, p, _, _ = chi2_contingency(contingency_table)\n",
    "\n",
    "alpha = 0.05\n",
    "\n",
    "print(\"Chi-squared statistic:\", chi2)\n",
    "print(\"P-value:\", p)\n",
    "\n",
    "if p <= alpha:\n",
    "    print(\"There is a significant association between patterns of physical activity and sugary drink consumption.\")\n",
    "else:\n",
    "    print(\"There is no significant association between patterns of physical activity and sugary drink consumption.\")"
   ]
  },
  {
   "cell_type": "code",
   "execution_count": null,
   "metadata": {},
   "outputs": [],
   "source": []
  }
 ],
 "metadata": {
  "kernelspec": {
   "display_name": "Python 3 (ipykernel)",
   "language": "python",
   "name": "python3"
  },
  "language_info": {
   "codemirror_mode": {
    "name": "ipython",
    "version": 3
   },
   "file_extension": ".py",
   "mimetype": "text/x-python",
   "name": "python",
   "nbconvert_exporter": "python",
   "pygments_lexer": "ipython3",
   "version": "3.9.13"
  }
 },
 "nbformat": 4,
 "nbformat_minor": 2
}
