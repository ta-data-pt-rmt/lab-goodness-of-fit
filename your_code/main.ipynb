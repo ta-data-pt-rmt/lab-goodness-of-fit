{
 "cells": [
  {
   "cell_type": "markdown",
   "metadata": {},
   "source": [
    "## Question 1\n",
    "The following table indicates the number of 6-point scores in an American rugby match in the 1979 season.\n",
    "\n",
    "![](table1.png)\n",
    "\n",
    "Based on these results, we create a Poisson distribution with the sample mean parameter  = 2.435. Is there any reason to believe that at a .05 level the number of scores is a Poisson variable?\n",
    "\n",
    "Check [here](https://www.geeksforgeeks.org/how-to-create-a-poisson-probability-mass-function-plot-in-python/) how to create a poisson distribution and how to calculate the expected observations, using the probability mass function (pmf). \n",
    "A Poisson distribution is a discrete probability distribution. It gives the probability of an event happening a certain number of times (k) within a given interval of time or space. The Poisson distribution has only one parameter, λ (lambda), which is the mean number of events."
   ]
  },
  {
   "cell_type": "code",
   "execution_count": 7,
   "metadata": {},
   "outputs": [
    {
     "name": "stdout",
     "output_type": "stream",
     "text": [
      "Fail to reject the null hypothesis. The data does follow a Poisson distribuition\n"
     ]
    }
   ],
   "source": [
    "import numpy as np \n",
    "from scipy.stats import poisson, chisquare\n",
    "\n",
    "\n",
    "\n",
    "observed_frequency = np.array ([35, 99, 104, 110, 62, 25, 10, 3])\n",
    "\n",
    "\n",
    "lambda_parameter = 2.435 \n",
    "\n",
    "expected_frequency = np.array([poisson.pmf(i, lambda_parameter) * 448 for i in range(len(observed_frequency))])\n",
    "\n",
    "\n",
    "expected_frequency = expected_frequency * np.sum(observed_frequency) / np.sum(expected_frequency)\n",
    "\n",
    "\n",
    "chi2_stat, p_value = chisquare(observed_frequency, f_exp = expected_frequency, ddof = 1)\n",
    "\n",
    "\n",
    "alpha = 0.05 \n",
    "\n",
    "if p_value < alpha: \n",
    "    print(\"Reject the null hypothesis. The data does not follow a Poisson distribuition\")\n",
    "    \n",
    "else:\n",
    "    print(\"Fail to reject the null hypothesis. The data does follow a Poisson distribuition\")"
   ]
  },
  {
   "cell_type": "markdown",
   "metadata": {},
   "source": [
    "## Question 2\n",
    "A researcher gathers information about the patterns of Physical Activity of children in the fifth grade of primary school of a public school. He defines three categories of physical activity (Low, Medium, High). He also inquires about the regular consumption of sugary drinks at school, and defines two categories (Yes = consumed, No = not consumed). We would like to evaluate if there is an association between patterns of physical activity and the consumption of sugary drinks for the children of this school, at a level of 5% significance. The results are in the following table: \n",
    "\n",
    "![](table4.png)"
   ]
  },
  {
   "cell_type": "code",
   "execution_count": 9,
   "metadata": {},
   "outputs": [
    {
     "name": "stdout",
     "output_type": "stream",
     "text": [
      "Reject the null hypothesis. There is an association between patterns of physical activity and sugary drink consumption.\n"
     ]
    }
   ],
   "source": [
    "from scipy.stats import chi2_contingency\n",
    "\n",
    "\n",
    "observed_freq = np.array([[32, 12], [14, 22], [6, 9]])\n",
    "\n",
    "chi2_stat, p_value, dof, expected = chi2_contingency(observed_freq)\n",
    "\n",
    "# significance level\n",
    "alpha = 0.05\n",
    "\n",
    "\n",
    "if p_value < alpha:\n",
    "    print(\"Reject the null hypothesis. There is an association between patterns of physical activity and sugary drink consumption.\")\n",
    "else:\n",
    "    print(\"Fail to reject the null hypothesis. There is no association between patterns of physical activity and sugary drink consumption.\")"
   ]
  }
 ],
 "metadata": {
  "kernelspec": {
   "display_name": "Python 3",
   "language": "python",
   "name": "python3"
  },
  "language_info": {
   "codemirror_mode": {
    "name": "ipython",
    "version": 3
   },
   "file_extension": ".py",
   "mimetype": "text/x-python",
   "name": "python",
   "nbconvert_exporter": "python",
   "pygments_lexer": "ipython3",
   "version": "3.10.9"
  }
 },
 "nbformat": 4,
 "nbformat_minor": 2
}
