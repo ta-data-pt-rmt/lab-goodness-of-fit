{
 "cells": [
  {
   "cell_type": "markdown",
   "metadata": {},
   "source": [
    "## Question 1\n",
    "The following table indicates the number of 6-point scores in an American rugby match in the 1979 season.\n",
    "\n",
    "![](table1.png)\n",
    "\n",
    "Based on these results, we create a Poisson distribution with the sample mean parameter  = 2.435. Is there any reason to believe that at a .05 level the number of scores is a Poisson variable?\n",
    "Check [here](https://www.geeksforgeeks.org/how-to-create-a-poisson-probability-mass-function-plot-in-python/) how to create a poisson distribution and how to calculate the expected observations, using the probability mass function (pmf). \n",
    "A Poisson distribution is a discrete probability distribution. It gives the probability of an event happening a certain number of times (k) within a given interval of time or space. The Poisson distribution has only one parameter, λ (lambda), which is the mean number of events."
   ]
  },
  {
   "cell_type": "code",
   "execution_count": 5,
   "metadata": {},
   "outputs": [],
   "source": [
    "import numpy as np\n",
    "import scipy.stats as stats"
   ]
  },
  {
   "cell_type": "code",
   "execution_count": 6,
   "metadata": {},
   "outputs": [],
   "source": [
    "# your answer here\n",
    "observed_counts = np.array([35, 99, 104, 110, 62, 25, 10, 3])\n",
    "expected_mean = 2.435\n",
    "num_bins = len(observed_counts)"
   ]
  },
  {
   "cell_type": "code",
   "execution_count": 8,
   "metadata": {},
   "outputs": [
    {
     "name": "stdout",
     "output_type": "stream",
     "text": [
      "Chi-square statistic: 5.5005589331731475\n",
      "P-value: 0.48138915260512505\n",
      "Fail to reject the null hypothesis: Data follows a Poisson distribution.\n"
     ]
    }
   ],
   "source": [
    "# Calculate expected frequencies using Poisson distribution pmf\n",
    "expected_frequencies = np.array([stats.poisson.pmf(i, expected_mean) * np.sum(observed_counts) for i in range(num_bins)])\n",
    "\n",
    "# Normalize the expected frequencies to sum up to the total observed count\n",
    "expected_frequencies = expected_frequencies * np.sum(observed_counts) / np.sum(expected_frequencies)\n",
    "\n",
    "# Perform the chi-square goodness-of-fit test\n",
    "chi2_statistic, p_value = stats.chisquare(observed_counts, f_exp=expected_frequencies, ddof=1)\n",
    "\n",
    "# Significance level\n",
    "alpha = 0.05\n",
    "\n",
    "# Print the results\n",
    "print(f\"Chi-square statistic: {chi2_statistic}\")\n",
    "print(f\"P-value: {p_value}\")\n",
    "\n",
    "if p_value < alpha:\n",
    "    print(\"Reject the null hypothesis: Data does not follow a Poisson distribution.\")\n",
    "else:\n",
    "    print(\"Fail to reject the null hypothesis: Data follows a Poisson distribution.\")\n",
    "\n"
   ]
  },
  {
   "cell_type": "markdown",
   "metadata": {},
   "source": [
    "## Question 2\n",
    "A researcher gathers information about the patterns of Physical Activity of children in the fifth grade of primary school of a public school. He defines three categories of physical activity (Low, Medium, High). He also inquires about the regular consumption of sugary drinks at school, and defines two categories (Yes = consumed, No = not consumed). We would like to evaluate if there is an association between patterns of physical activity and the consumption of sugary drinks for the children of this school, at a level of 5% significance. The results are in the following table: \n",
    "\n",
    "![](table4.png)"
   ]
  },
  {
   "cell_type": "code",
   "execution_count": 11,
   "metadata": {},
   "outputs": [
    {
     "name": "stdout",
     "output_type": "stream",
     "text": [
      "Chi-square statistic: 10.712198008709638\n",
      "P-value: 0.004719280137040844\n",
      "Degrees of freedom: 2\n",
      "Expected frequencies:\n",
      "[[24.08421053 19.91578947]\n",
      " [19.70526316 16.29473684]\n",
      " [ 8.21052632  6.78947368]]\n",
      "Reject the null hypothesis: There is an association between physical activity and sugary drink consumption.\n"
     ]
    }
   ],
   "source": [
    "#your answer here\n",
    "\n",
    "# Given data\n",
    "observed = np.array([[32, 12], [14, 22], [6, 9]])\n",
    "alpha = 0.05\n",
    "\n",
    "# Perform the chi-square test for independence\n",
    "chi2_statistic, p_value, dof, expected = stats.chi2_contingency(observed)\n",
    "\n",
    "# Print the results\n",
    "print(f\"Chi-square statistic: {chi2_statistic}\")\n",
    "print(f\"P-value: {p_value}\")\n",
    "print(f\"Degrees of freedom: {dof}\")\n",
    "print(\"Expected frequencies:\")\n",
    "print(expected)\n",
    "\n",
    "if p_value < alpha:\n",
    "    print(\"Reject the null hypothesis: There is an association between physical activity and sugary drink consumption.\")\n",
    "else:\n",
    "    print(\"Fail to reject the null hypothesis: There is no association between physical activity and sugary drink consumption.\")"
   ]
  },
  {
   "cell_type": "code",
   "execution_count": null,
   "metadata": {},
   "outputs": [],
   "source": []
  }
 ],
 "metadata": {
  "kernelspec": {
   "display_name": "Python 3 (ipykernel)",
   "language": "python",
   "name": "python3"
  },
  "language_info": {
   "codemirror_mode": {
    "name": "ipython",
    "version": 3
   },
   "file_extension": ".py",
   "mimetype": "text/x-python",
   "name": "python",
   "nbconvert_exporter": "python",
   "pygments_lexer": "ipython3",
   "version": "3.9.13"
  }
 },
 "nbformat": 4,
 "nbformat_minor": 4
}
