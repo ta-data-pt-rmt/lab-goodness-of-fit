{
 "cells": [
  {
   "cell_type": "markdown",
   "metadata": {},
   "source": [
    "## Question 1\n",
    "The following table indicates the number of 6-point scores in an American rugby match in the 1979 season.\n",
    "\n",
    "![](table1.png)\n",
    "\n",
    "Based on these results, we create a Poisson distribution with the sample mean parameter  = 2.435. Is there any reason to believe that at a .05 level the number of scores is a Poisson variable?\n",
    "\n",
    "Check [here](https://www.geeksforgeeks.org/how-to-create-a-poisson-probability-mass-function-plot-in-python/) how to create a poisson distribution and how to calculate the expected observations, using the probability mass function (pmf). \n",
    "A Poisson distribution is a discrete probability distribution. It gives the probability of an event happening a certain number of times (k) within a given interval of time or space. The Poisson distribution has only one parameter, λ (lambda), which is the mean number of events."
   ]
  },
  {
   "cell_type": "code",
   "execution_count": 8,
   "metadata": {},
   "outputs": [],
   "source": [
    "# your answer here\n",
    "import numpy as np\n",
    "from scipy.stats import poisson, chi2_contingency"
   ]
  },
  {
   "cell_type": "code",
   "execution_count": 3,
   "metadata": {},
   "outputs": [
    {
     "data": {
      "text/plain": [
       "[39.243790677529816,\n",
       " 95.55863029978511,\n",
       " 116.34263238998835,\n",
       " 94.4314366232072,\n",
       " 57.48513704437739,\n",
       " 27.995261740611806,\n",
       " 11.361410389731613,\n",
       " 3.952147756999499]"
      ]
     },
     "execution_count": 3,
     "metadata": {},
     "output_type": "execute_result"
    }
   ],
   "source": [
    "observed_freq = np.array([35, 99, 104, 110, 62, 25, 10, 3])\n",
    "lambda_value = 2.435\n",
    "\n",
    "# Calculate expected frequencies from the Poisson distribution\n",
    "expected_freq = [poisson.pmf(i, lambda_value) * sum(observed_freq) for i in range(len(observed_freq))]\n",
    "expected_freq"
   ]
  },
  {
   "cell_type": "code",
   "execution_count": 16,
   "metadata": {},
   "outputs": [
    {
     "data": {
      "text/plain": [
       "Chi2ContingencyResult(statistic=2.7345565562261323, pvalue=0.9084246963114111, dof=7, expected_freq=array([[ 37.18953185,  97.45655916, 110.37204958, 102.40195651,\n",
       "         59.85142016,  26.54590985,  10.70016556,   3.48240732],\n",
       "       [ 37.05425883,  97.10207114, 109.97058281, 102.02948012,\n",
       "         59.63371689,  26.44935189,  10.66124483,   3.46974043]]))"
      ]
     },
     "execution_count": 16,
     "metadata": {},
     "output_type": "execute_result"
    }
   ],
   "source": [
    "chi2_contingency([observed_freq, expected_freq])\n",
    "#since p_value (0.9084246963114111) is greater than 0.05, the data follows a Poisson distribution."
   ]
  },
  {
   "cell_type": "markdown",
   "metadata": {},
   "source": [
    "## Question 2\n",
    "A researcher gathers information about the patterns of Physical Activity of children in the fifth grade of primary school of a public school. He defines three categories of physical activity (Low, Medium, High). He also inquires about the regular consumption of sugary drinks at school, and defines two categories (Yes = consumed, No = not consumed). We would like to evaluate if there is an association between patterns of physical activity and the consumption of sugary drinks for the children of this school, at a level of 5% significance. The results are in the following table: \n",
    "\n",
    "![](table4.png)"
   ]
  },
  {
   "cell_type": "code",
   "execution_count": 23,
   "metadata": {},
   "outputs": [
    {
     "data": {
      "text/plain": [
       "Chi2ContingencyResult(statistic=10.712198008709638, pvalue=0.004719280137040844, dof=2, expected_freq=array([[24.08421053, 19.91578947],\n",
       "       [19.70526316, 16.29473684],\n",
       "       [ 8.21052632,  6.78947368]]))"
      ]
     },
     "execution_count": 23,
     "metadata": {},
     "output_type": "execute_result"
    }
   ],
   "source": [
    "#your answer here\n",
    "physical_activity_sugary_drink = [[32,12],\n",
    "                                  [14,22],\n",
    "                                  [6,9]]\n",
    "                                    \n",
    "chi2_contingency(np.array(physical_activity_sugary_drink))\n",
    "#since p_value (0.004719280137040844) is less than 0.05, we can reject null hypothesis,\n",
    "#there is an association between physical activity and the consumption of sugary drinks for the children of this school"
   ]
  }
 ],
 "metadata": {
  "kernelspec": {
   "display_name": "Python 3",
   "language": "python",
   "name": "python3"
  },
  "language_info": {
   "codemirror_mode": {
    "name": "ipython",
    "version": 3
   },
   "file_extension": ".py",
   "mimetype": "text/x-python",
   "name": "python",
   "nbconvert_exporter": "python",
   "pygments_lexer": "ipython3",
   "version": "3.11.4"
  }
 },
 "nbformat": 4,
 "nbformat_minor": 2
}
