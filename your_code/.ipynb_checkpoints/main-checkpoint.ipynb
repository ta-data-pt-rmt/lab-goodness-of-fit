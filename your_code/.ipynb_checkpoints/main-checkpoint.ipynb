{
 "cells": [
  {
   "cell_type": "markdown",
   "metadata": {},
   "source": [
    "## Question 1\n",
    "The following table indicates the number of 6-point scores in an American rugby match in the 1979 season.\n",
    "\n",
    "![](table1.png)\n",
    "\n",
    "Based on these results, we create a Poisson distribution with the sample mean parameter  = 2.435. Is there any reason to believe that at a .05 level the number of scores is a Poisson variable?"
   ]
  },
  {
   "cell_type": "code",
   "execution_count": 121,
   "metadata": {},
   "outputs": [],
   "source": [
    "# your answer here\n",
    "import numpy as np\n",
    "import scipy.stats as st\n",
    "from scipy.stats import poisson\n",
    "import matplotlib.pyplot as plt"
   ]
  },
  {
   "cell_type": "code",
   "execution_count": 122,
   "metadata": {},
   "outputs": [
    {
     "data": {
      "image/png": "[encoded data removed]",
      "text/plain": [
       "<Figure size 640x480 with 1 Axes>"
      ]
     },
     "metadata": {},
     "output_type": "display_data"
    }
   ],
   "source": [
    "fig, ax = plt.subplots(1, 1)\n",
    "mu = 2.435\n",
    "mean, var, skew, kurt = poisson.stats(mu, moments='mvsk')\n",
    "x = np.arange(poisson.ppf(0.01, mu),poisson.ppf(0.99, mu))\n",
    "ax.plot(x, poisson.pmf(x, mu), 'bo', ms=8, label='poisson pmf')\n",
    "ax.vlines(x, 0, poisson.pmf(x, mu), colors='b', lw=5, alpha=0.5)\n",
    "rv = poisson(mu)\n",
    "ax.vlines(x, 0, rv.pmf(x), colors='k', linestyles='-', lw=1,label='frozen pmf')\n",
    "ax.legend(loc='best', frameon=False)\n",
    "plt.show()"
   ]
  },
  {
   "cell_type": "code",
   "execution_count": 123,
   "metadata": {},
   "outputs": [],
   "source": [
    "#FIRST OPTION. (OJO! IT GENERATES RANDOM POISSON DISTRIBUTIONS)"
   ]
  },
  {
   "cell_type": "code",
   "execution_count": 152,
   "metadata": {},
   "outputs": [
    {
     "data": {
      "text/plain": [
       "array([2, 4, 1, 3, 2, 3, 4, 3, 5, 2, 2, 2, 1, 5, 5, 2, 3, 1, 9, 1, 4, 1,\n",
       "       1, 1, 2, 3, 6, 4, 2, 5, 4, 2, 1, 1, 1, 1, 4, 1, 7, 2, 1, 0, 2, 0,\n",
       "       2, 2, 1, 1, 3, 7, 7, 2, 2, 4, 1, 0, 1, 5, 3, 2, 1, 1, 0, 2, 2, 4,\n",
       "       3, 2, 0, 4, 3, 4, 2, 2, 2, 3, 5, 1, 1, 1, 1, 0, 4, 3, 1, 2, 4, 2,\n",
       "       5, 1, 1, 2, 2, 1, 3, 0, 1, 1, 2, 1, 2, 6, 3, 1, 3, 2, 0, 2, 1, 2,\n",
       "       2, 3, 4, 1, 1, 1, 0, 2, 1, 3, 3, 2, 5, 1, 0, 4, 4, 3, 2, 2, 2, 2,\n",
       "       3, 2, 1, 4, 2, 3, 3, 1, 3, 1, 3, 1, 1, 5, 6, 3, 3, 3, 3, 0, 4, 1,\n",
       "       3, 1, 3, 4, 4, 9, 3, 0, 3, 4, 1, 1, 1, 2, 1, 3, 2, 3, 2, 4, 4, 1,\n",
       "       2, 2, 5, 4, 4, 6, 3, 6, 3, 2, 1, 1, 2, 2, 4, 2, 3, 3, 3, 2, 2, 1,\n",
       "       3, 3, 5, 5, 2, 4, 2, 2, 1, 1, 1, 3, 4, 1, 2, 3, 2, 1, 3, 1, 1, 4,\n",
       "       3, 3, 3, 1, 2, 1, 3, 1, 3, 2, 1, 4, 3, 3, 1, 1, 3, 2, 2, 2, 2, 4,\n",
       "       4, 5, 4, 6, 1, 2, 2, 4, 3, 1, 2, 1, 3, 1, 1, 2, 1, 8, 3, 2, 4, 4,\n",
       "       2, 5, 2, 3, 2, 1, 4, 0, 2, 0, 1, 3, 2, 1, 5, 3, 2, 3, 2, 3, 4, 4,\n",
       "       3, 1, 3, 4, 0, 1, 2, 1, 3, 3, 4, 0, 1, 1, 5, 2, 3, 1, 8, 4, 9, 5,\n",
       "       1, 4, 1, 3, 1, 2, 2, 5, 4, 4, 1, 3, 0, 2, 3, 6, 2, 1, 5, 2, 0, 0,\n",
       "       3, 3, 3, 1, 3, 3, 1, 1, 1, 4, 2, 3, 2, 2, 3, 3, 2, 4, 2, 1, 4, 1,\n",
       "       1, 2, 1, 8, 3, 2, 2, 0, 1, 2, 4, 4, 1, 5, 2, 2, 1, 4, 6, 2, 2, 5,\n",
       "       2, 2, 4, 4, 0, 1, 0, 2, 1, 2, 3, 2, 3, 4, 1, 1, 3, 1, 2, 6, 6, 2,\n",
       "       1, 2, 1, 1, 1, 2, 2, 3, 4, 0, 5, 2, 5, 1, 3, 1, 1, 2, 4, 3, 5, 0,\n",
       "       4, 6, 1, 1, 3, 0, 4, 3, 5, 1, 3, 1, 1, 2, 1, 1, 6, 3, 3, 3, 0, 1,\n",
       "       2, 2, 2, 1, 3, 1, 2, 2], dtype=int64)"
      ]
     },
     "execution_count": 152,
     "metadata": {},
     "output_type": "execute_result"
    }
   ],
   "source": [
    "r = poisson.rvs(2.435, size=448)\n",
    "r"
   ]
  },
  {
   "cell_type": "code",
   "execution_count": 153,
   "metadata": {},
   "outputs": [
    {
     "data": {
      "text/plain": [
       "Counter({2: 112, 4: 57, 1: 118, 3: 89, 5: 25, 9: 3, 6: 12, 7: 3, 0: 26, 8: 3})"
      ]
     },
     "execution_count": 153,
     "metadata": {},
     "output_type": "execute_result"
    }
   ],
   "source": [
    "from collections import Counter\n",
    "Counter(r)"
   ]
  },
  {
   "cell_type": "code",
   "execution_count": 154,
   "metadata": {},
   "outputs": [
    {
     "data": {
      "text/plain": [
       "448"
      ]
     },
     "execution_count": 154,
     "metadata": {},
     "output_type": "execute_result"
    }
   ],
   "source": [
    "expected = [41,97,110,99,57,23,12,9]\n",
    "sum(expected)"
   ]
  },
  {
   "cell_type": "code",
   "execution_count": 155,
   "metadata": {},
   "outputs": [
    {
     "data": {
      "text/plain": [
       "448"
      ]
     },
     "execution_count": 155,
     "metadata": {},
     "output_type": "execute_result"
    }
   ],
   "source": [
    "observed=[35,99,104,110,62,25,10,3]\n",
    "sum(observed)"
   ]
  },
  {
   "cell_type": "code",
   "execution_count": 156,
   "metadata": {},
   "outputs": [
    {
     "data": {
      "text/plain": [
       "Power_divergenceResult(statistic=7.41462371142448, pvalue=0.38702156810247407)"
      ]
     },
     "execution_count": 156,
     "metadata": {},
     "output_type": "execute_result"
    }
   ],
   "source": [
    "st.chisquare(observed, expected)"
   ]
  },
  {
   "cell_type": "code",
   "execution_count": 129,
   "metadata": {},
   "outputs": [],
   "source": [
    "#OPTION 2."
   ]
  },
  {
   "cell_type": "code",
   "execution_count": 146,
   "metadata": {},
   "outputs": [
    {
     "data": {
      "text/plain": [
       "0.9875408463509627"
      ]
     },
     "execution_count": 146,
     "metadata": {},
     "output_type": "execute_result"
    }
   ],
   "source": [
    "# We create a Poisson distribution and for each scoring we want to know the real probablity\n",
    "poisson_pmfs = np.array([poisson(2.435).pmf(i) for i in range(0,7)])\n",
    "sum(poisson_pmfs)"
   ]
  },
  {
   "cell_type": "code",
   "execution_count": 149,
   "metadata": {},
   "outputs": [
    {
     "data": {
      "text/plain": [
       "array([ 39.24379068,  95.5586303 , 116.34263239,  94.43143662,\n",
       "        57.48513704,  27.99526174,  11.36141039,   5.58170083])"
      ]
     },
     "execution_count": 149,
     "metadata": {},
     "output_type": "execute_result"
    }
   ],
   "source": [
    "# We add the \"small\" probabilities to the last value\n",
    "expected = np.append(poisson_pmfs,1-poisson_pmfs.sum())*448\n",
    "expected"
   ]
  },
  {
   "cell_type": "code",
   "execution_count": 150,
   "metadata": {},
   "outputs": [
    {
     "data": {
      "text/plain": [
       "Power_divergenceResult(statistic=6.491310681109821, pvalue=0.483688906853727)"
      ]
     },
     "execution_count": 150,
     "metadata": {},
     "output_type": "execute_result"
    }
   ],
   "source": [
    "st.chisquare(observed,expected)"
   ]
  },
  {
   "cell_type": "code",
   "execution_count": null,
   "metadata": {},
   "outputs": [],
   "source": [
    "#pvalue>0.05 so we don't reject the null hypothesis of this being a Poisson distribution."
   ]
  },
  {
   "cell_type": "markdown",
   "metadata": {},
   "source": [
    "## BONUS/OPTIONAL - Question 2\n",
    "Let's analyze a discrete distribution. To analyze the number of defective items in a factory in the city of Medellín, we took a random sample of n = 60 articles and observed the number of defectives in the following table:\n",
    "\n",
    "![](table2.png)\n",
    "\n",
    "A poissón distribution was proposed since it is defined for x = 0,1,2,3, .... using the following model:\n",
    "\n",
    "![](image1.png)\n",
    "\n",
    "For some extra insights check the following link: https://online.stat.psu.edu/stat504/node/63/ \n",
    "\n",
    "Does the distribution of defective items follow this distribution?"
   ]
  },
  {
   "cell_type": "code",
   "execution_count": 157,
   "metadata": {},
   "outputs": [
    {
     "data": {
      "text/plain": [
       "0.9666666666666667"
      ]
     },
     "execution_count": 157,
     "metadata": {},
     "output_type": "execute_result"
    }
   ],
   "source": [
    "mean=(np.array([32*0,15*1,9*3,4*4]).sum()/60)\n",
    "mean"
   ]
  },
  {
   "cell_type": "code",
   "execution_count": 165,
   "metadata": {},
   "outputs": [],
   "source": [
    "observed = [32,15,0,9,4]"
   ]
  },
  {
   "cell_type": "code",
   "execution_count": 166,
   "metadata": {},
   "outputs": [],
   "source": [
    "poisson_pmfs = np.array([poisson(mean).pmf(i) for i in range(0,4)])"
   ]
  },
  {
   "cell_type": "code",
   "execution_count": 167,
   "metadata": {},
   "outputs": [
    {
     "data": {
      "text/plain": [
       "array([22.8209254 , 22.06022788, 10.66244348,  3.43567623,  1.02072701])"
      ]
     },
     "execution_count": 167,
     "metadata": {},
     "output_type": "execute_result"
    }
   ],
   "source": [
    "expected = np.append(poisson_pmfs,1-poisson_pmfs.sum())*60\n",
    "expected"
   ]
  },
  {
   "cell_type": "code",
   "execution_count": 168,
   "metadata": {},
   "outputs": [
    {
     "data": {
      "text/plain": [
       "Power_divergenceResult(statistic=34.32169618960069, pvalue=6.401393042020276e-07)"
      ]
     },
     "execution_count": 168,
     "metadata": {},
     "output_type": "execute_result"
    }
   ],
   "source": [
    "st.chisquare(observed, expected)"
   ]
  },
  {
   "cell_type": "code",
   "execution_count": 9,
   "metadata": {},
   "outputs": [],
   "source": [
    "# We reject the null hypothesis. It doesn't follow a Poisson distribution."
   ]
  },
  {
   "cell_type": "markdown",
   "metadata": {},
   "source": [
    "## BONUS/OPTIONAL - Question 3\n",
    "A quality control engineer takes a sample of 10 tires that come out of an assembly line, and would like to verify on the basis of the data that follows, if the number of tires with defects observed over 200 days, if it is true that 5% of all tires have defects (that is, if the sample comes from a binomial population with n = 10 and p = 0.05). \n",
    "\n",
    "![](table3.png)\n"
   ]
  },
  {
   "cell_type": "code",
   "execution_count": 173,
   "metadata": {},
   "outputs": [],
   "source": [
    "observed=[138,53,9]"
   ]
  },
  {
   "cell_type": "code",
   "execution_count": 174,
   "metadata": {},
   "outputs": [
    {
     "data": {
      "text/plain": [
       "array([0.59873694, 0.3151247 ])"
      ]
     },
     "execution_count": 174,
     "metadata": {},
     "output_type": "execute_result"
    }
   ],
   "source": [
    "binom_pmfs = np.array([binom(n=10, p=0.05).pmf(i) for i in range(0,2)])\n",
    "binom_pmfs"
   ]
  },
  {
   "cell_type": "code",
   "execution_count": 175,
   "metadata": {},
   "outputs": [
    {
     "data": {
      "text/plain": [
       "array([119.74738785,  63.02494097,  17.22767118])"
      ]
     },
     "execution_count": 175,
     "metadata": {},
     "output_type": "execute_result"
    }
   ],
   "source": [
    "expected = np.append(binom_pmfs,1-binom_pmfs.sum())*200\n",
    "expected"
   ]
  },
  {
   "cell_type": "code",
   "execution_count": 176,
   "metadata": {},
   "outputs": [
    {
     "data": {
      "text/plain": [
       "Power_divergenceResult(statistic=8.306179519542757, pvalue=0.015715783395951262)"
      ]
     },
     "execution_count": 176,
     "metadata": {},
     "output_type": "execute_result"
    }
   ],
   "source": [
    "st.chisquare(observed, expected)"
   ]
  },
  {
   "cell_type": "code",
   "execution_count": null,
   "metadata": {},
   "outputs": [],
   "source": [
    "#Reject the null hypothesis, it's not following a binomial distribution."
   ]
  },
  {
   "cell_type": "markdown",
   "metadata": {},
   "source": [
    "## Question 4\n",
    "A researcher gathers information about the patterns of Physical Activity of children in the fifth grade of primary school of a public school. He defines three categories of physical activity (Low, Medium, High). He also inquires about the regular consumption of sugary drinks at school, and defines two categories (Yes = consumed, No = not consumed). We would like to evaluate if there is an association between patterns of physical activity and the consumption of sugary drinks for the children of this school, at a level of 5% significance. The results are in the following table: \n",
    "\n",
    "![](table4.png)"
   ]
  },
  {
   "cell_type": "code",
   "execution_count": 13,
   "metadata": {},
   "outputs": [
    {
     "data": {
      "text/plain": [
       "Chi2ContingencyResult(statistic=10.712198008709638, pvalue=0.004719280137040844, dof=2, expected_freq=array([[24.08421053, 19.91578947],\n",
       "       [19.70526316, 16.29473684],\n",
       "       [ 8.21052632,  6.78947368]]))"
      ]
     },
     "execution_count": 13,
     "metadata": {},
     "output_type": "execute_result"
    }
   ],
   "source": [
    "#your answer here\n",
    "physactvssugar=[[32,12],\n",
    "            [14,22],\n",
    "            [6,9]]\n",
    "\n",
    "st.chi2_contingency(np.array(physactvssugar))"
   ]
  },
  {
   "cell_type": "code",
   "execution_count": 14,
   "metadata": {},
   "outputs": [],
   "source": [
    "#Yes, there is a relation there is an association between patterns of physical activity and the consumption of sugary drinks for the children of this school"
   ]
  }
 ],
 "metadata": {
  "kernelspec": {
   "display_name": "Python 3 (ipykernel)",
   "language": "python",
   "name": "python3"
  },
  "language_info": {
   "codemirror_mode": {
    "name": "ipython",
    "version": 3
   },
   "file_extension": ".py",
   "mimetype": "text/x-python",
   "name": "python",
   "nbconvert_exporter": "python",
   "pygments_lexer": "ipython3",
   "version": "3.9.12"
  }
 },
 "nbformat": 4,
 "nbformat_minor": 2
}
