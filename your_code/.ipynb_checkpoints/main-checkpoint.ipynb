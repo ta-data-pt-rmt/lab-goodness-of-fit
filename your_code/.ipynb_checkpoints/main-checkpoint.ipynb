{
 "cells": [
  {
   "cell_type": "markdown",
   "metadata": {},
   "source": [
    "## Question 1\n",
    "The following table indicates the number of 6-point scores in an American rugby match in the 1979 season.\n",
    "\n",
    "![](table1.png)\n",
    "\n",
    "Based on these results, we create a Poisson distribution with the sample mean parameter  = 2.435. Is there any reason to believe that at a .05 level the number of scores is a Poisson variable?\n",
    "Check [here](https://www.geeksforgeeks.org/how-to-create-a-poisson-probability-mass-function-plot-in-python/) how to create a poisson distribution and how to calculate the expected observations, using the probability mass function (pmf). \n",
    "A Poisson distribution is a discrete probability distribution. It gives the probability of an event happening a certain number of times (k) within a given interval of time or space. The Poisson distribution has only one parameter, λ (lambda), which is the mean number of events."
   ]
  },
  {
   "cell_type": "code",
   "execution_count": 10,
   "metadata": {},
   "outputs": [
    {
     "name": "stdout",
     "output_type": "stream",
     "text": [
      "Chi-square statistic: 5.251488075940394\n",
      "Critical chi-square value: 12.591587243743977\n",
      "p-value: 0.5119860408971473\n",
      "Degrees of freedom: 6\n",
      "There is no evidence to reject the null hypothesis.\n"
     ]
    }
   ],
   "source": [
    "# your answer here\n",
    "import numpy as np\n",
    "from scipy.stats import poisson\n",
    "from scipy.stats import chisquare\n",
    "\n",
    "# Observed frequencies\n",
    "observed = [35, 99, 104, 110, 62, 25, 10, 3]\n",
    "\n",
    "# Calculate the expected frequencies based on the Poisson distribution\n",
    "poisson_pmfs = np.array([poisson(2.435).pmf(i) for i in range(7)])\n",
    "expected_sum = sum(observed[:-1])\n",
    "expected_normalized = poisson_pmfs * expected_sum / poisson_pmfs.sum()\n",
    "\n",
    "# Perform the chi-square goodness-of-fit test\n",
    "chi2, p = chisquare(observed[:-1], f_exp=expected_normalized)\n",
    "\n",
    "# Degrees of freedom\n",
    "df = len(observed) - 2\n",
    "\n",
    "# Critical chi-square value at alpha=0.05\n",
    "critical_value = stats.chi2.ppf(0.95, df)\n",
    "\n",
    "# Print the results\n",
    "print(\"Chi-square statistic:\", chi2)\n",
    "print(\"Critical chi-square value:\", critical_value)\n",
    "print(\"p-value:\", p)\n",
    "print(\"Degrees of freedom:\", df)\n",
    "\n",
    "# Check if the null hypothesis can be rejected\n",
    "if chi2 > critical_value:\n",
    "    print(\"There is evidence to reject the null hypothesis.\")\n",
    "else:\n",
    "    print(\"There is no evidence to reject the null hypothesis.\")\n",
    "\n"
   ]
  },
  {
   "cell_type": "markdown",
   "metadata": {},
   "source": [
    "## Question 2\n",
    "A researcher gathers information about the patterns of Physical Activity of children in the fifth grade of primary school of a public school. He defines three categories of physical activity (Low, Medium, High). He also inquires about the regular consumption of sugary drinks at school, and defines two categories (Yes = consumed, No = not consumed). We would like to evaluate if there is an association between patterns of physical activity and the consumption of sugary drinks for the children of this school, at a level of 5% significance. The results are in the following table: \n",
    "\n",
    "![](table4.png)"
   ]
  },
  {
   "cell_type": "code",
   "execution_count": 11,
   "metadata": {},
   "outputs": [
    {
     "name": "stdout",
     "output_type": "stream",
     "text": [
      "Chi-square statistic: 10.712198008709638\n",
      "Critical chi-square value: 0.0\n",
      "p-value: 0.004719280137040844\n",
      "Degrees of freedom: 2\n",
      "There is evidence to reject the null hypothesis.\n"
     ]
    }
   ],
   "source": [
    "#your answer here\n",
    "import numpy as np\n",
    "from scipy.stats import chi2_contingency\n",
    "\n",
    "# Observed frequencies\n",
    "observed = np.array([[32, 12], [14, 22], [6, 9]])\n",
    "\n",
    "# Perform the chi-square test of independence\n",
    "chi2, p, _, _ = chi2_contingency(observed)\n",
    "\n",
    "# Degrees of freedom\n",
    "df = (observed.shape[0] - 1) * (observed.shape[1] - 1)\n",
    "\n",
    "# Critical chi-square value at alpha=0.05\n",
    "critical_value = chi2_contingency(np.ones(observed.shape))[0]\n",
    "\n",
    "# Print the results\n",
    "print(\"Chi-square statistic:\", chi2)\n",
    "print(\"Critical chi-square value:\", critical_value)\n",
    "print(\"p-value:\", p)\n",
    "print(\"Degrees of freedom:\", df)\n",
    "\n",
    "# Check if the null hypothesis can be rejected\n",
    "if chi2 > critical_value:\n",
    "    print(\"There is evidence to reject the null hypothesis.\")\n",
    "else:\n",
    "    print(\"There is no evidence to reject the null hypothesis.\")\n"
   ]
  }
 ],
 "metadata": {
  "kernelspec": {
   "display_name": "Python 3 (ipykernel)",
   "language": "python",
   "name": "python3"
  },
  "language_info": {
   "codemirror_mode": {
    "name": "ipython",
    "version": 3
   },
   "file_extension": ".py",
   "mimetype": "text/x-python",
   "name": "python",
   "nbconvert_exporter": "python",
   "pygments_lexer": "ipython3",
   "version": "3.10.9"
  }
 },
 "nbformat": 4,
 "nbformat_minor": 2
}
