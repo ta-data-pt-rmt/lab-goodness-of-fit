{
 "cells": [
  {
   "cell_type": "markdown",
   "metadata": {},
   "source": [
    "## Question 1\n",
    "The following table indicates the number of 6-point scores in an American rugby match in the 1979 season.\n",
    "\n",
    "![](table1.png)\n",
    "\n",
    "Based on these results, we create a Poisson distribution with the sample mean parameter  = 2.435. Is there any reason to believe that at a .05 level the number of scores is a Poisson variable?"
   ]
  },
  {
   "cell_type": "code",
   "execution_count": 50,
   "metadata": {},
   "outputs": [
    {
     "name": "stdout",
     "output_type": "stream",
     "text": [
      "0.4836889068537269\n"
     ]
    },
    {
     "data": {
      "text/plain": [
       "'With a value of p over 0.05 we cannot reject the null hypothesis so seems a poisson distribution'"
      ]
     },
     "execution_count": 50,
     "metadata": {},
     "output_type": "execute_result"
    }
   ],
   "source": [
    "# your answer here\n",
    "\n",
    "import scipy.stats as st\n",
    "import numpy as np\n",
    "from scipy.stats import poisson\n",
    "\n",
    "poisson_pmfs = np.array([poisson(2.435).pmf(i) for i in range(0,7)])\n",
    "expected = np.append(poisson_pmfs,1-poisson_pmfs.sum())*448\n",
    "\n",
    "print(st.chisquare([35,99,104,110,62,25,10,3],f_exp=expected).pvalue)\n",
    "\n",
    "'''With a value of p over 0.05 we cannot reject the null hypothesis so seems a poisson distribution'''"
   ]
  },
  {
   "cell_type": "markdown",
   "metadata": {},
   "source": [
    "## BONUS/OPTIONAL - Question 2\n",
    "Let's analyze a discrete distribution. To analyze the number of defective items in a factory in the city of Medellín, we took a random sample of n = 60 articles and observed the number of defectives in the following table:\n",
    "\n",
    "![](table2.png)\n",
    "\n",
    "A poissón distribution was proposed since it is defined for x = 0,1,2,3, .... using the following model:\n",
    "\n",
    "![](image1.png)\n",
    "\n",
    "For some extra insights check the following link: https://online.stat.psu.edu/stat504/node/63/ \n",
    "\n",
    "Does the distribution of defective items follow this distribution?"
   ]
  },
  {
   "cell_type": "code",
   "execution_count": 51,
   "metadata": {},
   "outputs": [
    {
     "name": "stdout",
     "output_type": "stream",
     "text": [
      "0.03857093251244402\n"
     ]
    },
    {
     "data": {
      "text/plain": [
       "'pvalue is lower than 0.05 so we can reject the null hypothesis'"
      ]
     },
     "execution_count": 51,
     "metadata": {},
     "output_type": "execute_result"
    }
   ],
   "source": [
    "# your code here\n",
    "\n",
    "mean = 1/(np.array([32*0,15*1,9*3,4*4]).sum()/60)\n",
    "\n",
    "poisson_pmfs = np.array([poisson(mean).pmf(i) for i in range(0,3)])\n",
    "expected = np.append(poisson_pmfs,1-poisson_pmfs.sum())*60\n",
    "print(st.chisquare([32,15,9,4],f_exp=expected).pvalue)\n",
    "\n",
    "'''pvalue is lower than 0.05 so we can reject the null hypothesis'''"
   ]
  },
  {
   "cell_type": "markdown",
   "metadata": {},
   "source": [
    "## BONUS/OPTIONAL - Question 3\n",
    "A quality control engineer takes a sample of 10 tires that come out of an assembly line, and would like to verify on the basis of the data that follows, if the number of tires with defects observed over 200 days, if it is true that 5% of all tires have defects (that is, if the sample comes from a binomial population with n = 10 and p = 0.05). \n",
    "\n",
    "![](table3.png)\n"
   ]
  },
  {
   "cell_type": "code",
   "execution_count": 52,
   "metadata": {},
   "outputs": [
    {
     "name": "stdout",
     "output_type": "stream",
     "text": [
      "0.015715783395950887\n"
     ]
    },
    {
     "data": {
      "text/plain": [
       "'pvalue is very low so we can reject the null hypothesis'"
      ]
     },
     "execution_count": 52,
     "metadata": {},
     "output_type": "execute_result"
    }
   ],
   "source": [
    "# your answer here\n",
    "from scipy.stats import binom\n",
    "\n",
    "\n",
    "mean = 1/(np.array([138*0,53*1,9*2]).sum()/200)\n",
    "\n",
    "binom_pmfs = np.array([binom(n=10,p=0.05).pmf(i) for i in range(0,2)])\n",
    "expected = np.append(binom_pmfs,1-binom_pmfs.sum())*200\n",
    "print(st.chisquare([138,53,9],f_exp=expected).pvalue)\n",
    "\n",
    "'''pvalue is very low so we can reject the null hypothesis'''"
   ]
  },
  {
   "cell_type": "markdown",
   "metadata": {},
   "source": [
    "## Question 4\n",
    "A researcher gathers information about the patterns of Physical Activity of children in the fifth grade of primary school of a public school. He defines three categories of physical activity (Low, Medium, High). He also inquires about the regular consumption of sugary drinks at school, and defines two categories (Yes = consumed, No = not consumed). We would like to evaluate if there is an association between patterns of physical activity and the consumption of sugary drinks for the children of this school, at a level of 5% significance. The results are in the following table: \n",
    "\n",
    "![](table4.png)"
   ]
  },
  {
   "cell_type": "code",
   "execution_count": 53,
   "metadata": {},
   "outputs": [
    {
     "name": "stdout",
     "output_type": "stream",
     "text": [
      "statistics: 10.712198008709638\n",
      "pvalue: 0.004719280137040844\n",
      "degrees of freedom: 2\n",
      "expected frequencies [[24.08421053 19.91578947]\n",
      " [19.70526316 16.29473684]\n",
      " [ 8.21052632  6.78947368]]\n"
     ]
    },
    {
     "data": {
      "text/plain": [
       "'If we asume that the null hypothesis coul be: \"THERE IS NO association betwwen physical activity and sugary drinks\", since the pvalue is so small, we can reject this assumption and can say that THERE IS an association between physical activity and sugary drinks'"
      ]
     },
     "execution_count": 53,
     "metadata": {},
     "output_type": "execute_result"
    }
   ],
   "source": [
    "#your answer here\n",
    "\n",
    "table = [[32,12],[14,22],[6,9]]\n",
    "\n",
    "sta, pvalue, dof, expected = st.chi2_contingency(np.array(table))\n",
    "\n",
    "print(f\"statistics: {sta}\")\n",
    "print(f\"pvalue: {pvalue}\")\n",
    "print(f\"degrees of freedom: {dof}\")\n",
    "print(f\"expected frequencies {expected}\")\n",
    "\n",
    "'''If we asume that the null hypothesis coul be: \"THERE IS NO association betwwen physical activity and sugary drinks\", since the pvalue is so small, we can reject this assumption and can say that THERE IS an association between physical activity and sugary drinks'''"
   ]
  },
  {
   "cell_type": "code",
   "execution_count": null,
   "metadata": {},
   "outputs": [],
   "source": []
  }
 ],
 "metadata": {
  "kernelspec": {
   "display_name": "Python 3 (ipykernel)",
   "language": "python",
   "name": "python3"
  },
  "language_info": {
   "codemirror_mode": {
    "name": "ipython",
    "version": 3
   },
   "file_extension": ".py",
   "mimetype": "text/x-python",
   "name": "python",
   "nbconvert_exporter": "python",
   "pygments_lexer": "ipython3",
   "version": "3.9.12"
  }
 },
 "nbformat": 4,
 "nbformat_minor": 2
}
