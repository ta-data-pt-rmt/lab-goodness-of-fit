{
 "cells": [
  {
   "cell_type": "markdown",
   "metadata": {},
   "source": [
    "## Question 1\n",
    "The following table indicates the number of 6-point scores in an American rugby match in the 1979 season.\n",
    "\n",
    "![](table1.png)\n",
    "\n",
    "Based on these results, we create a Poisson distribution with the sample mean parameter  = 2.435. Is there any reason to believe that at a .05 level the number of scores is a Poisson variable?\n",
    "Check [here](https://www.geeksforgeeks.org/how-to-create-a-poisson-probability-mass-function-plot-in-python/) how to create a poisson distribution and how to calculate the expected observations, using the probability mass function (pmf). \n",
    "A Poisson distribution is a discrete probability distribution. It gives the probability of an event happening a certain number of times (k) within a given interval of time or space. The Poisson distribution has only one parameter, λ (lambda), which is the mean number of events."
   ]
  },
  {
   "cell_type": "code",
   "execution_count": 5,
   "metadata": {},
   "outputs": [
    {
     "name": "stdout",
     "output_type": "stream",
     "text": [
      "Chi-square statistic: 0.012278033332975774\n",
      "P-value: 0.9999999616163838\n",
      "Fail to reject the null hypothesis: The data may follow a Poisson distribution.\n"
     ]
    }
   ],
   "source": [
    "import numpy as np\n",
    "from scipy.stats import poisson, chisquare\n",
    "\n",
    "sample_mean = 2.435\n",
    "\n",
    "#Observed data\n",
    "scores = [0, 1, 2, 3, 4, 5, 6, 7]\n",
    "frequencies = [35, 99, 104, 110, 62, 25, 10, 3]\n",
    "\n",
    "#Expected frequencies with Poisson distribution\n",
    "expected_frequencies = [poisson.pmf(k, sample_mean) * np.sum(frequencies) for k in scores]\n",
    "\n",
    "#Normalize frequencies\n",
    "observed_freq_sum = np.sum(frequencies)\n",
    "expected_freq_sum = np.sum(expected_frequencies)\n",
    "\n",
    "observed_freq_normalized = np.array(frequencies) / observed_freq_sum\n",
    "expected_freq_normalized = np.array(expected_frequencies) / expected_freq_sum\n",
    "\n",
    "#Chi-square goodness-of-fit test\n",
    "chi_square_stat, p_value = chisquare(f_obs=observed_freq_normalized, f_exp=expected_freq_normalized, ddof=1)\n",
    "\n",
    "print(f\"Chi-square statistic: {chi_square_stat}\")\n",
    "print(f\"P-value: {p_value}\")\n",
    "\n",
    "#Check significance at the 0.05 level\n",
    "alpha = 0.05\n",
    "if p_value < alpha:\n",
    "    print(\"Reject the null hypothesis: The data does not follow a Poisson distribution.\")\n",
    "else:\n",
    "    print(\"Fail to reject the null hypothesis: The data may follow a Poisson distribution.\")\n"
   ]
  },
  {
   "cell_type": "markdown",
   "metadata": {},
   "source": [
    "## Question 2\n",
    "A researcher gathers information about the patterns of Physical Activity of children in the fifth grade of primary school of a public school. He defines three categories of physical activity (Low, Medium, High). He also inquires about the regular consumption of sugary drinks at school, and defines two categories (Yes = consumed, No = not consumed). We would like to evaluate if there is an association between patterns of physical activity and the consumption of sugary drinks for the children of this school, at a level of 5% significance. The results are in the following table: \n",
    "\n",
    "![](table4.png)"
   ]
  },
  {
   "cell_type": "code",
   "execution_count": 4,
   "metadata": {},
   "outputs": [
    {
     "data": {
      "text/plain": [
       "(10.712198008709638,\n",
       " 0.004719280137040844,\n",
       " 2,\n",
       " array([[24.08421053, 19.91578947],\n",
       "        [19.70526316, 16.29473684],\n",
       "        [ 8.21052632,  6.78947368]]))"
      ]
     },
     "execution_count": 4,
     "metadata": {},
     "output_type": "execute_result"
    }
   ],
   "source": [
    "from scipy.stats import chi2_contingency\n",
    "import numpy as np\n",
    "\n",
    "# Let's create the contingency table with our data\n",
    "data = np.array([[32, 12],\n",
    "                 [14, 22],\n",
    "                 [6, 9]])\n",
    "\n",
    "# Chi-square test\n",
    "chi2, p, dof, expected = chi2_contingency(data)\n",
    "\n",
    "chi2, p, dof, expected\n"
   ]
  },
  {
   "cell_type": "code",
   "execution_count": null,
   "metadata": {},
   "outputs": [],
   "source": [
    "#Given that the p-value (0.0047) is less than the significance level of 0.05, we reject the null hypothesis \n",
    "#and conclude that there is a statistically significant association between physical activity patterns and \n",
    "#the consumption of sugary drinks among the children"
   ]
  }
 ],
 "metadata": {
  "kernelspec": {
   "display_name": "Python 3 (ipykernel)",
   "language": "python",
   "name": "python3"
  },
  "language_info": {
   "codemirror_mode": {
    "name": "ipython",
    "version": 3
   },
   "file_extension": ".py",
   "mimetype": "text/x-python",
   "name": "python",
   "nbconvert_exporter": "python",
   "pygments_lexer": "ipython3",
   "version": "3.11.4"
  }
 },
 "nbformat": 4,
 "nbformat_minor": 2
}
