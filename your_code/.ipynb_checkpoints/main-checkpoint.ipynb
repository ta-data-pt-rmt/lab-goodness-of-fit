{
 "cells": [
  {
   "cell_type": "markdown",
   "metadata": {},
   "source": [
    "## Question 1\n",
    "A researcher gathers information about the patterns of Physical Activity of children in the fifth grade of primary school of a public school. He defines three categories of physical activity (Low, Medium, High). He also inquires about the regular consumption of sugary drinks at school, and defines two categories (Yes = consumed, No = not consumed). We would like to evaluate if there is an association between patterns of physical activity and the consumption of sugary drinks for the children of this school, at a level of 5% significance. The results are in the following table: \n",
    "\n",
    "![](table4.png)"
   ]
  },
  {
   "cell_type": "code",
   "execution_count": 1,
   "metadata": {},
   "outputs": [
    {
     "name": "stdout",
     "output_type": "stream",
     "text": [
      "Chi-square statistic: 10.712198008709638\n",
      "p-value: 0.004719280137040844\n",
      "Degrees of freedom: 2\n",
      "Expected frequencies:\n",
      "[[24.08421053 19.91578947]\n",
      " [19.70526316 16.29473684]\n",
      " [ 8.21052632  6.78947368]]\n"
     ]
    }
   ],
   "source": [
    "import scipy.stats as stats\n",
    "import numpy as np\n",
    "\n",
    "observed = np.array([[32, 12], [14, 22], [6, 9]])\n",
    "\n",
    "chi2, p_value, dof, expected = stats.chi2_contingency(observed)\n",
    "\n",
    "print(f\"Chi-square statistic: {chi2}\")\n",
    "print(f\"p-value: {p_value}\")\n",
    "print(f\"Degrees of freedom: {dof}\")\n",
    "print(f\"Expected frequencies:\\n{expected}\")"
   ]
  },
  {
   "cell_type": "code",
   "execution_count": null,
   "metadata": {},
   "outputs": [],
   "source": [
    "\"\"\"\n",
    "Low Physical Activity: Sugary Drinks (Yes: 24.08, No: 19.92)\n",
    "Medium Physical Activity: Sugary Drinks (Yes: 19.71, No: 16.29)\n",
    "High Physical Activity: Sugary Drinks (Yes: 8.21, No: 6.79)\n",
    "\n",
    "Chi-square statistic: The value of 10.71 represents the difference between the observed and expected frequencies across the \n",
    "different categories of physical activity and sugary drink consumption.\n",
    "\n",
    "p-value (0.0047): This is the probability of observing the data (or something more extreme) assuming that the null hypothesis \n",
    "is true. The null hypothesis states that there is no association between physical activity levels and sugary drink consumption.\n",
    "\n",
    "Degrees of freedom (2): This value is calculated as (number of rows - 1) * (number of columns - 1) in the contingency table. \n",
    "It indicates the number of values that are free to vary in the calculation.\n",
    "\n",
    "Expected frequencies: These are the frequencies that we would expect to find if there were no association between physical \n",
    "activity and sugary drink consumption. They are calculated based on the marginal totals and the overall sample size.\n",
    "\n",
    "H₀: There is no association between physical activity levels and the consumption of sugary drinks among the children.\n",
    "H₁: There is an association between physical activity levels and the consumption of sugary drinks among the children.\n",
    "\n",
    "Since the p-value (0.0047) is less than the significance level of 0.05, we reject the null hypothesis. \n",
    "This means there is statistically significant evidence to suggest that there is an association between the level of \n",
    "physical activity and the consumption of sugary drinks among the children in the study.\n",
    "This indicates that patterns of sugary drink consumption vary significantly with different \n",
    "levels of physical activity.\n",
    "\"\"\""
   ]
  },
  {
   "cell_type": "markdown",
   "metadata": {},
   "source": [
    "## [OPTIONAL] Question 2\n",
    "The following table indicates the number of 6-point scores in an American rugby match in the 1979 season.\n",
    "\n",
    "![](table1.png)\n",
    "\n",
    "Based on these results, we create a Poisson distribution with the sample mean parameter  = 2.435. Is there any reason to believe that at a .05 level the number of scores is a Poisson variable?\n",
    "\n",
    "Check [here](https://www.geeksforgeeks.org/how-to-create-a-poisson-probability-mass-function-plot-in-python/) how to create a poisson distribution and how to calculate the expected observations, using the probability mass function (pmf). \n",
    "A Poisson distribution is a discrete probability distribution. It gives the probability of an event happening a certain number of times (k) within a given interval of time or space. The Poisson distribution has only one parameter, λ (lambda), which is the mean number of events."
   ]
  },
  {
   "cell_type": "code",
   "execution_count": 3,
   "metadata": {},
   "outputs": [
    {
     "name": "stdout",
     "output_type": "stream",
     "text": [
      "Chi-square statistic: 6.491310681109792\n",
      "p-value: 0.48368890685373034\n",
      "Expected frequencies: [ 39.24379068  95.5586303  116.34263239  94.43143662  57.48513704\n",
      "  27.99526174  11.36141039   5.58170083]\n"
     ]
    }
   ],
   "source": [
    "from scipy.stats import poisson, chisquare\n",
    "\n",
    "observed_scores = np.array([35, 99, 104, 110, 62, 25, 10, 3])\n",
    "total_scores = 448\n",
    "lambda_poisson = 2.435\n",
    "\n",
    "expected_frequencies = []\n",
    "for k in range(7):\n",
    "    expected_frequencies.append(poisson.pmf(k, lambda_poisson) * total_scores)\n",
    "    \n",
    "expected_frequencies.append(poisson.sf(6, lambda_poisson) * total_scores)\n",
    "\n",
    "expected_frequencies = np.array(expected_frequencies)\n",
    "\n",
    "chi2, p_value = chisquare(observed_scores, expected_frequencies)\n",
    "\n",
    "print(f\"Chi-square statistic: {chi2}\")\n",
    "print(f\"p-value: {p_value}\")\n",
    "print(f\"Expected frequencies: {expected_frequencies}\")"
   ]
  },
  {
   "cell_type": "code",
   "execution_count": null,
   "metadata": {},
   "outputs": [],
   "source": [
    "\"\"\"\n",
    "(H₀): The number of scores in the rugby matches follows a Poisson distribution with the mean 𝜆=2.435\n",
    "(H₁): The number of scores in the rugby matches does not follow a Poisson distribution with the mean λ=2.435.\n",
    "\n",
    "Chi-square Statistic (6.49):\n",
    "This value measures the discrepancy between the observed and expected frequencies under the Poisson distribution assumption. \n",
    "The higher this value, the greater the difference between observed and expected frequencies.\n",
    "\n",
    "p-value (0.484):\n",
    "The p-value indicates the probability of obtaining a Chi-square statistic as extreme as, or more extreme than, the observed one,\n",
    "assuming the null hypothesis is true. In this context, a p-value of 0.484 suggests that there is a 48.4% chance of observing \n",
    "the given data if the true distribution of the number of scores follows the Poisson distribution with the specified mean.\n",
    "\n",
    "At the significance level of 0.05, the p-value of 0.484 is much greater than 0.05. Therefore, we fail to reject the \n",
    "null hypothesis.\n",
    "\"\"\""
   ]
  }
 ],
 "metadata": {
  "kernelspec": {
   "display_name": "Python 3 (ipykernel)",
   "language": "python",
   "name": "python3"
  },
  "language_info": {
   "codemirror_mode": {
    "name": "ipython",
    "version": 3
   },
   "file_extension": ".py",
   "mimetype": "text/x-python",
   "name": "python",
   "nbconvert_exporter": "python",
   "pygments_lexer": "ipython3",
   "version": "3.11.7"
  }
 },
 "nbformat": 4,
 "nbformat_minor": 2
}
