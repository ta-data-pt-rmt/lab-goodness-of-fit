{
 "cells": [
  {
   "cell_type": "markdown",
   "metadata": {},
   "source": [
    "## Question 1\n",
    "The following table indicates the number of 6-point scores in an American rugby match in the 1979 season.\n",
    "\n",
    "![](table1.png)\n",
    "\n",
    "Based on these results, we create a Poisson distribution with the sample mean parameter  = 2.435. Is there any reason to believe that at a .05 level the number of scores is a Poisson variable?\n",
    "Check [here](https://www.geeksforgeeks.org/how-to-create-a-poisson-probability-mass-function-plot-in-python/) how to create a poisson distribution and how to calculate the expected observations, using the probability mass function (pmf). \n",
    "A Poisson distribution is a discrete probability distribution. It gives the probability of an event happening a certain number of times (k) within a given interval of time or space. The Poisson distribution has only one parameter, λ (lambda), which is the mean number of events."
   ]
  },
  {
   "cell_type": "code",
   "execution_count": 4,
   "metadata": {},
   "outputs": [
    {
     "name": "stdout",
     "output_type": "stream",
     "text": [
      "  Number of Scores  Number of times  Expected Frequencies\n",
      "0                0               35             39.243791\n",
      "1                1               99             95.558630\n",
      "2                2              104            116.342632\n",
      "3                3              110             94.431437\n",
      "4                4               25             57.485137\n",
      "5                5               62             27.995262\n",
      "6                6               10             11.361410\n",
      "7        7 or more                3              5.581701\n",
      "\n",
      "Calculated chi-squared statistic: 65.47797118460656\n",
      "P-value: 1.205354426517408e-11\n"
     ]
    }
   ],
   "source": [
    "import pandas as pd\n",
    "import numpy as np\n",
    "from scipy.stats import poisson, chisquare\n",
    "\n",
    "# Create the dataframe with provided data\n",
    "df = pd.DataFrame()\n",
    "df['Number of Scores'] = ['0','1','2','3','4','5','6','7 or more']\n",
    "df['Number of times'] = [35,99,104,110,25,62,10,3]\n",
    "\n",
    "# Given lambda value\n",
    "lambda_val = 2.435\n",
    "total_matches = df['Number of times'].sum()\n",
    "\n",
    "# Calculate expected frequencies using Poisson PMF\n",
    "expected_frequencies = []\n",
    "for k in range(7):  # For scores from 0 to 6\n",
    "    expected_frequencies.append(poisson.pmf(k, lambda_val) * total_matches)\n",
    "\n",
    "# For '7 or more', we sum the probabilities from 7 onwards\n",
    "expected_frequencies.append(total_matches - sum(expected_frequencies))\n",
    "\n",
    "df['Expected Frequencies'] = expected_frequencies\n",
    "\n",
    "# Calculate the chi-squared statistic and p-value\n",
    "chi2_stat, p_val = chisquare(df['Number of times'], df['Expected Frequencies'])\n",
    "\n",
    "print(df)\n",
    "print(\"\\nCalculated chi-squared statistic:\", chi2_stat)\n",
    "print(\"P-value:\", p_val)"
   ]
  },
  {
   "cell_type": "markdown",
   "metadata": {},
   "source": [
    "Next, we will compute the chi-squared statistic and compare it to the critical value to determine if the observed frequencies significantly differ from what we'd expect under a Poisson distribution."
   ]
  },
  {
   "cell_type": "code",
   "execution_count": 5,
   "metadata": {},
   "outputs": [
    {
     "data": {
      "text/plain": [
       "(65.47797118460656, 1.205354426517408e-11)"
      ]
     },
     "execution_count": 5,
     "metadata": {},
     "output_type": "execute_result"
    }
   ],
   "source": [
    "from scipy.stats import chisquare\n",
    "\n",
    "# Calculate the chi-squared statistic and p-value\n",
    "chi2_stat, p_val = chisquare(df['Number of times'], df['Expected Frequencies'])\n",
    "\n",
    "chi2_stat, p_val"
   ]
  },
  {
   "cell_type": "markdown",
   "metadata": {},
   "source": [
    "The calculated chi-squared statistic is \n",
    "\n",
    "χ \n",
    "2\n",
    " =65.48. The corresponding p-value for this statistic is approximately \n",
    "1.21\n",
    "×\n",
    "1\n",
    "0\n",
    "−\n",
    "11\n",
    "1.21×10 \n",
    "−11\n",
    " .\n",
    "\n",
    "Given that the p-value is significantly less than the significance level of \n",
    "\n",
    "α=0.05, we reject the null hypothesis (\n",
    "\n",
    "H \n",
    "0\n",
    "​\n",
    " ). This suggests that the observed frequencies significantly differ from what we would expect under a Poisson distribution with \n",
    "\n",
    "λ=2.435."
   ]
  },
  {
   "cell_type": "markdown",
   "metadata": {},
   "source": [
    "## Question 2\n",
    "A researcher gathers information about the patterns of Physical Activity of children in the fifth grade of primary school of a public school. He defines three categories of physical activity (Low, Medium, High). He also inquires about the regular consumption of sugary drinks at school, and defines two categories (Yes = consumed, No = not consumed). We would like to evaluate if there is an association between patterns of physical activity and the consumption of sugary drinks for the children of this school, at a level of 5% significance. The results are in the following table: \n",
    "\n",
    "![](table4.png)"
   ]
  },
  {
   "cell_type": "code",
   "execution_count": 6,
   "metadata": {},
   "outputs": [
    {
     "data": {
      "text/plain": [
       "(10.712198008709638,\n",
       " 0.004719280137040844,\n",
       " array([[24.08421053, 19.70526316,  8.21052632],\n",
       "        [19.91578947, 16.29473684,  6.78947368]]))"
      ]
     },
     "execution_count": 6,
     "metadata": {},
     "output_type": "execute_result"
    }
   ],
   "source": [
    "#your answer here\n",
    "\n",
    "from scipy.stats import chi2_contingency\n",
    "\n",
    "# Observed frequencies\n",
    "observed = np.array([[32, 14, 6],\n",
    "                     [12, 22, 9]])\n",
    "\n",
    "# Chi-squared test of independence\n",
    "chi2, p_val, _, expected = chi2_contingency(observed)\n",
    "\n",
    "chi2, p_val, expected"
   ]
  },
  {
   "cell_type": "markdown",
   "metadata": {},
   "source": [
    "The calculated \n",
    "\n",
    "χ \n",
    "2\n",
    "  statistic is approximately \n",
    "10.71\n",
    "10.71.\n",
    "The associated p-value is \n",
    "0.00472\n",
    "0.00472."
   ]
  },
  {
   "cell_type": "markdown",
   "metadata": {},
   "source": [
    "Given that the p-value (\n",
    "0.00472\n",
    "0.00472) is less than the significance level (\n",
    "\n",
    "α=0.05), we reject the null hypothesis (\n",
    "\n",
    "H \n",
    "0\n",
    "​\n",
    " )."
   ]
  }
 ],
 "metadata": {
  "kernelspec": {
   "display_name": "Python 3 (ipykernel)",
   "language": "python",
   "name": "python3"
  },
  "language_info": {
   "codemirror_mode": {
    "name": "ipython",
    "version": 3
   },
   "file_extension": ".py",
   "mimetype": "text/x-python",
   "name": "python",
   "nbconvert_exporter": "python",
   "pygments_lexer": "ipython3",
   "version": "3.10.9"
  }
 },
 "nbformat": 4,
 "nbformat_minor": 2
}
