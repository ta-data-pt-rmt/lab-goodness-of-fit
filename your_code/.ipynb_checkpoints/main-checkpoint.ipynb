{
 "cells": [
  {
   "cell_type": "markdown",
   "metadata": {},
   "source": [
    "## Question 1\n",
    "The following table indicates the number of 6-point scores in an American rugby match in the 1979 season.\n",
    "\n",
    "![](table1.png)\n",
    "\n",
    "Based on these results, we create a Poisson distribution with the sample mean parameter  = 2.435. Is there any reason to believe that at a .05 level the number of scores is a Poisson variable?\n",
    "Check [here](https://www.geeksforgeeks.org/how-to-create-a-poisson-probability-mass-function-plot-in-python/) how to create a poisson distribution and how to calculate the expected observations, using the probability mass function (pmf). \n",
    "A Poisson distribution is a discrete probability distribution. It gives the probability of an event happening a certain number of times (k) within a given interval of time or space. The Poisson distribution has only one parameter, λ (lambda), which is the mean number of events."
   ]
  },
  {
   "cell_type": "code",
   "execution_count": 5,
   "metadata": {},
   "outputs": [],
   "source": [
    "\n",
    "import scipy.stats as stats\n",
    "import numpy as np"
   ]
  },
  {
   "cell_type": "code",
   "execution_count": 18,
   "metadata": {},
   "outputs": [
    {
     "name": "stdout",
     "output_type": "stream",
     "text": [
      "0.014489532770334507 0.9999999972330947\n",
      "Fail to reject the null hypothesis. There is no significant evidence against the Poisson distribution.\n"
     ]
    }
   ],
   "source": [
    "\n",
    "\n",
    "observed_frequencies = np.array([35, 99, 104, 110, 62, 25, 10, 3])\n",
    "total_observation = sum(observed_frequencies)\n",
    "mean = 2.435\n",
    "\n",
    "\n",
    "expected_frequencies = np.array([stats.poisson.pmf(k, mean) * total_observation for k in range(len(observed_frequencies))])\n",
    "expected_frequencies[-1] = total_observation - sum(expected_frequencies[:-1])\n",
    "\n",
    "# Normalize observed and expected frequencies\n",
    "observed_normalized = observed_frequencies / total_observation\n",
    "expected_normalized = expected_frequencies / total_observation\n",
    "\n",
    "chi2, p_value = stats.chisquare(observed_normalized, f_exp=expected_normalized)\n",
    "print(chi2,p_value)\n",
    "\n",
    "alpha = 0.05\n",
    "\n",
    "if p_value < alpha:\n",
    "    print(\"Reject the null hypothesis. There is evidence that the data does not follow a Poisson distribution.\")\n",
    "else:\n",
    "    print(\"Fail to reject the null hypothesis. There is no significant evidence against the Poisson distribution.\")\n"
   ]
  },
  {
   "cell_type": "markdown",
   "metadata": {},
   "source": [
    "## Question 2\n",
    "A researcher gathers information about the patterns of Physical Activity of children in the fifth grade of primary school of a public school. He defines three categories of physical activity (Low, Medium, High). He also inquires about the regular consumption of sugary drinks at school, and defines two categories (Yes = consumed, No = not consumed). We would like to evaluate if there is an association between patterns of physical activity and the consumption of sugary drinks for the children of this school, at a level of 5% significance. The results are in the following table: \n",
    "\n",
    "![](table4.png)"
   ]
  },
  {
   "cell_type": "code",
   "execution_count": 13,
   "metadata": {},
   "outputs": [],
   "source": [
    "import scipy.stats as stats"
   ]
  },
  {
   "cell_type": "code",
   "execution_count": 17,
   "metadata": {},
   "outputs": [
    {
     "name": "stdout",
     "output_type": "stream",
     "text": [
      "10.712198008709638 0.004719280137040844\n",
      "Reject the null hypothesis. There is evidence of an association between patterns of physical activity and the consumption of sugary drinks.\n"
     ]
    }
   ],
   "source": [
    "\n",
    "observed_counts = [[32, 12], [14, 22], [6, 9]]\n",
    "chi2, p_value, _, _ = stats.chi2_contingency(observed_counts)\n",
    "print(chi2,p_value)\n",
    "\n",
    "alpha = 0.05\n",
    "\n",
    "\n",
    "if p_value < alpha:\n",
    "    print(\"Reject the null hypothesis. There is evidence of an association between patterns of physical activity and the consumption of sugary drinks.\")\n",
    "else:\n",
    "    print(\"Fail to reject the null hypothesis. There is no significant evidence of an association.\")\n"
   ]
  }
 ],
 "metadata": {
  "kernelspec": {
   "display_name": "Python 3 (ipykernel)",
   "language": "python",
   "name": "python3"
  },
  "language_info": {
   "codemirror_mode": {
    "name": "ipython",
    "version": 3
   },
   "file_extension": ".py",
   "mimetype": "text/x-python",
   "name": "python",
   "nbconvert_exporter": "python",
   "pygments_lexer": "ipython3",
   "version": "3.9.13"
  }
 },
 "nbformat": 4,
 "nbformat_minor": 2
}
