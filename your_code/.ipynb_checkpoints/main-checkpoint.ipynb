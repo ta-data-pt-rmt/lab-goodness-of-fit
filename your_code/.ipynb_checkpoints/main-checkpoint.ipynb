{
 "cells": [
  {
   "cell_type": "markdown",
   "metadata": {},
   "source": [
    "## Question 1\n",
    "The following table indicates the number of 6-point scores in an American rugby match in the 1979 season.\n",
    "\n",
    "![](table1.png)\n",
    "\n",
    "Based on these results, we create a Poisson distribution with the sample mean parameter  = 2.435. Is there any reason to believe that at a .05 level the number of scores is a Poisson variable?\n",
    "Check [here](https://www.geeksforgeeks.org/how-to-create-a-poisson-probability-mass-function-plot-in-python/) how to create a poisson distribution and how to calculate the expected observations, using the probability mass function (pmf). \n",
    "A Poisson distribution is a discrete probability distribution. It gives the probability of an event happening a certain number of times (k) within a given interval of time or space. The Poisson distribution has only one parameter, λ (lambda), which is the mean number of events."
   ]
  },
  {
   "cell_type": "code",
   "execution_count": 6,
   "metadata": {},
   "outputs": [
    {
     "name": "stdout",
     "output_type": "stream",
     "text": [
      "[0 1 2 3 4 5 6 7]\n"
     ]
    },
    {
     "data": {
      "image/png": "[encoded data removed]",
      "text/plain": [
       "<Figure size 432x288 with 1 Axes>"
      ]
     },
     "metadata": {
      "needs_background": "light"
     },
     "output_type": "display_data"
    },
    {
     "name": "stdout",
     "output_type": "stream",
     "text": [
      "La distribución de Poisson es una distribución de probabilidad discreta que describe el número de eventos que ocurrirán en un intervalo de tiempo o espacio fijo, dado que estos eventos ocurren con una tasa promedio constante e independientemente entre sí. La distribución de Poisson está parametrizada por la tasa promedio de ocurrencia, denotada comúnmente como λ (lambda).\n",
      "Chi-square statistic: 6.491310681109821\n",
      "P-value: 0.3704570948410621\n",
      "As p-value is higher than 0.05, we cannot reject the null hypothesis. It seems the distrib. follows the poisson distrib\n"
     ]
    }
   ],
   "source": [
    "# your answer here\n",
    "from scipy.stats import poisson\n",
    "import numpy as np\n",
    "import matplotlib.pyplot as plt\n",
    "from scipy.stats import poisson, chisquare\n",
    "y = [35, 99, 104, 110, 62, 25, 10, 3]\n",
    " \n",
    "x = np.arange(0, 8)\n",
    "mean_poisson = 2.435\n",
    "size = sum(y)\n",
    "print(x)\n",
    "# plotting the scatter plot graph\n",
    "plt.scatter(x, y)\n",
    "plt.show()\n",
    "\n",
    "\n",
    "print('La distribución de Poisson es una distribución de probabilidad discreta que describe el número de eventos que ocurrirán en un intervalo de tiempo o espacio fijo, dado que estos eventos ocurren con una tasa promedio constante e independientemente entre sí. La distribución de Poisson está parametrizada por la tasa promedio de ocurrencia, denotada comúnmente como λ (lambda).')\n",
    "poisson_pmfs = [poisson.pmf(i, mean_poisson) for i in range(7)]\n",
    "prob_7_more = 1 - sum(poisson_pmfs)\n",
    "exp_freq = [freq * size for freq in poisson_pmfs] + [prob_7_more * size]\n",
    "\n",
    "# Perform the chi-square test: comparamos la observada con la esperada segun la distrib.poisson\n",
    "chi_square_statistic, p_value = chisquare(y, f_exp=exp_freq, ddof=1)\n",
    "print(\"Chi-square statistic:\", chi_square_statistic)\n",
    "print(\"P-value:\", p_value)\n",
    "print('As p-value is higher than 0.05, we cannot reject the null hypothesis. It seems the distrib. follows the poisson distrib')"
   ]
  },
  {
   "cell_type": "markdown",
   "metadata": {},
   "source": [
    "## Question 2\n",
    "A researcher gathers information about the patterns of Physical Activity of children in the fifth grade of primary school of a public school. He defines three categories of physical activity (Low, Medium, High). He also inquires about the regular consumption of sugary drinks at school, and defines two categories (Yes = consumed, No = not consumed). We would like to evaluate if there is an association between patterns of physical activity and the consumption of sugary drinks for the children of this school, at a level of 5% significance. The results are in the following table: \n",
    "\n",
    "![](table4.png)"
   ]
  },
  {
   "cell_type": "code",
   "execution_count": 15,
   "metadata": {},
   "outputs": [
    {
     "name": "stdout",
     "output_type": "stream",
     "text": [
      "P-value: 0.004719280137040844\n",
      "Expected: [[24.08421053 19.91578947]\n",
      " [19.70526316 16.29473684]\n",
      " [ 8.21052632  6.78947368]]\n",
      "Degrees of Freedom: 2\n",
      "As p-value<0.05, we reject the null hypothesis and conclude that there is evidence of a significant association between the variables.sugar drinks and physical activity are related\n"
     ]
    }
   ],
   "source": [
    "#your answer here\n",
    "import scipy.stats as st\n",
    "\n",
    "\n",
    "observed_values = [[32,12],\n",
    "          [14,22],\n",
    "          [6,9]]\n",
    "\n",
    "chi2_stat, p_value, degrees, expected_values = st.chi2_contingency(observed_values)\n",
    "\n",
    "print(\"P-value:\", p_value)\n",
    "print(\"Expected:\", expected_values)\n",
    "print(\"Degrees of Freedom:\", degrees)\n",
    "print('As p-value<0.05, we reject the null hypothesis and conclude that there is evidence of a significant association between the variables.sugar drinks and physical activity are related')"
   ]
  }
 ],
 "metadata": {
  "kernelspec": {
   "display_name": "Python 3",
   "language": "python",
   "name": "python3"
  },
  "language_info": {
   "codemirror_mode": {
    "name": "ipython",
    "version": 3
   },
   "file_extension": ".py",
   "mimetype": "text/x-python",
   "name": "python",
   "nbconvert_exporter": "python",
   "pygments_lexer": "ipython3",
   "version": "3.7.6"
  }
 },
 "nbformat": 4,
 "nbformat_minor": 2
}
