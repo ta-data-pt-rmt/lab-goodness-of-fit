{
 "cells": [
  {
   "cell_type": "markdown",
   "metadata": {},
   "source": [
    "## Question 1\n",
    "The following table indicates the number of 6-point scores in an American rugby match in the 1979 season.\n",
    "\n",
    "![](table1.png)\n",
    "\n",
    "Based on these results, we create a Poisson distribution with the sample mean parameter  = 2.435. Is there any reason to believe that at a .05 level the number of scores is a Poisson variable?\n",
    "Check [here](https://www.geeksforgeeks.org/how-to-create-a-poisson-probability-mass-function-plot-in-python/) how to create a poisson distribution and how to calculate the expected observations, using the probability mass function (pmf). \n",
    "A Poisson distribution is a discrete probability distribution. It gives the probability of an event happening a certain number of times (k) within a given interval of time or space. The Poisson distribution has only one parameter, λ (lambda), which is the mean number of events."
   ]
  },
  {
   "cell_type": "code",
   "execution_count": 1,
   "metadata": {},
   "outputs": [
    {
     "data": {
      "image/png": "[encoded data removed]",
      "text/plain": [
       "<Figure size 640x480 with 1 Axes>"
      ]
     },
     "metadata": {},
     "output_type": "display_data"
    }
   ],
   "source": [
    "# Plotting the graph\n",
    "\n",
    "from scipy.stats import poisson\n",
    "import numpy as np\n",
    "import matplotlib.pyplot as plt\n",
    "\n",
    "y = [35, 99, 104, 110, 62, 25, 10, 3]\n",
    " \n",
    "x = np.arange(0, 8)\n",
    "\n",
    "# plotting the scatter plot graph\n",
    "plt.scatter(x, y)\n",
    "plt.show()"
   ]
  },
  {
   "cell_type": "code",
   "execution_count": 2,
   "metadata": {},
   "outputs": [
    {
     "name": "stdout",
     "output_type": "stream",
     "text": [
      "Chi-square statistic: 6.491310681109821\n",
      "P-value: 0.3704570948410621\n"
     ]
    }
   ],
   "source": [
    "# your answer here\n",
    "\n",
    "from scipy.stats import poisson, chisquare\n",
    "\n",
    "# Given data\n",
    "observed_frequencies = [35, 99, 104, 110, 62, 25, 10, 3]\n",
    "mean_parameter = 2.435\n",
    "sample_size = sum(observed_frequencies)\n",
    "\n",
    "# Calculate Poisson PMFs for scores 0 to 6\n",
    "poisson_pmfs = [poisson.pmf(i, mean_parameter) for i in range(7)]\n",
    "\n",
    "# Calculate complementary probability for 7 or more scores\n",
    "complementary_pmf = 1 - sum(poisson_pmfs)\n",
    "\n",
    "# Calculate expected frequencies by scaling the probabilities\n",
    "expected_frequencies = [freq * sample_size for freq in poisson_pmfs] + [complementary_pmf * sample_size]\n",
    "\n",
    "# Perform the chi-square test\n",
    "chi_square_statistic, p_value = chisquare(observed_frequencies, f_exp=expected_frequencies, ddof=1)\n",
    "\n",
    "print(\"Chi-square statistic:\", chi_square_statistic)\n",
    "print(\"P-value:\", p_value)\n",
    "\n",
    "# We got a p-value of 37%, so we don't reject the null. We can say that that is a Poisson distribution."
   ]
  },
  {
   "cell_type": "markdown",
   "metadata": {},
   "source": [
    "## Question 2\n",
    "A researcher gathers information about the patterns of Physical Activity of children in the fifth grade of primary school of a public school. He defines three categories of physical activity (Low, Medium, High). He also inquires about the regular consumption of sugary drinks at school, and defines two categories (Yes = consumed, No = not consumed). We would like to evaluate if there is an association between patterns of physical activity and the consumption of sugary drinks for the children of this school, at a level of 5% significance. The results are in the following table: \n",
    "\n",
    "![](table4.png)"
   ]
  },
  {
   "cell_type": "code",
   "execution_count": 3,
   "metadata": {},
   "outputs": [
    {
     "name": "stdout",
     "output_type": "stream",
     "text": [
      "P-value: 0.004719280137040844\n",
      "\n",
      "Expected: [[24.08421053 19.91578947]\n",
      " [19.70526316 16.29473684]\n",
      " [ 8.21052632  6.78947368]]\n"
     ]
    }
   ],
   "source": [
    "#your answer here\n",
    "\n",
    "import scipy.stats as st\n",
    "\n",
    "\n",
    "patterns = [[32,12],\n",
    "          [14,22],\n",
    "          [6,9]]\n",
    "\n",
    "chi2_statistic, p_value, dof, expected = st.chi2_contingency(patterns)\n",
    "\n",
    "print(\"P-value:\", p_value)\n",
    "print()\n",
    "print(\"Expected:\", expected)\n",
    "\n",
    "# We got a p-value less than 5%, so we can say that there is a association between the variables of physical activity and the sugary drinks."
   ]
  }
 ],
 "metadata": {
  "kernelspec": {
   "display_name": "Python 3 (ipykernel)",
   "language": "python",
   "name": "python3"
  },
  "language_info": {
   "codemirror_mode": {
    "name": "ipython",
    "version": 3
   },
   "file_extension": ".py",
   "mimetype": "text/x-python",
   "name": "python",
   "nbconvert_exporter": "python",
   "pygments_lexer": "ipython3",
   "version": "3.11.1"
  }
 },
 "nbformat": 4,
 "nbformat_minor": 2
}
